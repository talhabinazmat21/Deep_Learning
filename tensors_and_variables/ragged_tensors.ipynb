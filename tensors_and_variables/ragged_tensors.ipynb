{
  "nbformat": 4,
  "nbformat_minor": 0,
  "metadata": {
    "colab": {
      "provenance": [],
      "authorship_tag": "ABX9TyNvO13JLsaeSypqUMsL+Qq5",
      "include_colab_link": true
    },
    "kernelspec": {
      "name": "python3",
      "display_name": "Python 3"
    },
    "language_info": {
      "name": "python"
    }
  },
  "cells": [
    {
      "cell_type": "markdown",
      "metadata": {
        "id": "view-in-github",
        "colab_type": "text"
      },
      "source": [
        "<a href=\"https://colab.research.google.com/github/talhabinazmat21/Deep_Learning/blob/main/tensors_and_variables/ragged_tensors.ipynb\" target=\"_parent\"><img src=\"https://colab.research.google.com/assets/colab-badge.svg\" alt=\"Open In Colab\"/></a>"
      ]
    },
    {
      "cell_type": "code",
      "execution_count": 4,
      "metadata": {
        "colab": {
          "base_uri": "https://localhost:8080/"
        },
        "id": "_BDMWhmbtaMY",
        "outputId": "32ee528f-531d-4b79-af1c-a3cddbf65e97"
      },
      "outputs": [
        {
          "output_type": "stream",
          "name": "stdout",
          "text": [
            "<tf.RaggedTensor [[1, 2, 4], [2], [3, 5, 6, 7], [2, 1]]>\n",
            "(4, None)\n"
          ]
        }
      ],
      "source": [
        "### ragged tensor is a tensor which has non recatbgular dimensions\n",
        "\n",
        "\n",
        "import tensorflow as tf\n",
        "x1 = tf.ragged.constant([\n",
        "    [1,2,4],\n",
        "    [2],\n",
        "    [3,5,6,7],\n",
        "    [2,1]\n",
        "])\n",
        "print(x1)\n",
        "print(x1.shape)"
      ]
    },
    {
      "cell_type": "code",
      "source": [
        "x2 = tf.RaggedTensor.from_row_lengths(\n",
        "    values=[1,2,3,4,5,6,67,3,4,23,4234,4,6,4,],\n",
        "    row_lengths=[4,1,2,4,3]\n",
        ")\n",
        "\n",
        "print(x2)\n"
      ],
      "metadata": {
        "colab": {
          "base_uri": "https://localhost:8080/"
        },
        "id": "RImTG5hruRtQ",
        "outputId": "60816901-efee-42b8-e938-2d7246d6ee37"
      },
      "execution_count": 11,
      "outputs": [
        {
          "output_type": "stream",
          "name": "stdout",
          "text": [
            "<tf.RaggedTensor [[1, 2, 3, 4], [5], [6, 67], [3, 4, 23, 4234], [4, 6, 4]]>\n"
          ]
        }
      ]
    },
    {
      "cell_type": "code",
      "source": [],
      "metadata": {
        "id": "u3n40Dd7vSaL"
      },
      "execution_count": null,
      "outputs": []
    }
  ]
}