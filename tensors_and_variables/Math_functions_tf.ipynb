{
  "nbformat": 4,
  "nbformat_minor": 0,
  "metadata": {
    "colab": {
      "provenance": [],
      "toc_visible": true,
      "authorship_tag": "ABX9TyP6PsqXZBiIBXpH4MI4M5wo",
      "include_colab_link": true
    },
    "kernelspec": {
      "name": "python3",
      "display_name": "Python 3"
    },
    "language_info": {
      "name": "python"
    }
  },
  "cells": [
    {
      "cell_type": "markdown",
      "metadata": {
        "id": "view-in-github",
        "colab_type": "text"
      },
      "source": [
        "<a href=\"https://colab.research.google.com/github/talhabinazmat21/Deep_Learning/blob/main/tensors_and_variables/Math_functions_tf.ipynb\" target=\"_parent\"><img src=\"https://colab.research.google.com/assets/colab-badge.svg\" alt=\"Open In Colab\"/></a>"
      ]
    },
    {
      "cell_type": "code",
      "execution_count": null,
      "metadata": {
        "id": "uf_TekaxqtNk",
        "colab": {
          "base_uri": "https://localhost:8080/"
        },
        "outputId": "1e1defaf-1130-4147-ebb7-812e265a03c8"
      },
      "outputs": [
        {
          "output_type": "stream",
          "name": "stdout",
          "text": [
            "tf.Tensor(\n",
            "[[2.  3.  4.  5.  6.  0.6]\n",
            " [1.  3.  5.  6.  7.  8. ]\n",
            " [0.3 0.5 0.6 0.9 6.  4. ]], shape=(3, 6), dtype=float32)\n"
          ]
        }
      ],
      "source": [
        "import tensorflow as tf\n",
        "tensor_2d = tf.constant([[2,3,4,-5,-6,-0.6],\n",
        "                         [1,3,5,6,-7,-8],\n",
        "                         [-0.3,-0.5,-0.6,-0.9,-6, 4]])\n",
        "tensor_2d_abs = tf.math.abs(tensor_2d)\n",
        "print(tensor_2d_abs)\n",
        "\n",
        "### abs converts all the negative numbvers to positive and keeps the positive numbers positive"
      ]
    },
    {
      "cell_type": "code",
      "source": [
        "tensor_2d_complex = tf.constant([[2 + 3j,3 - 8j ,4,-5,-6 -0.2j,-0.6],\n",
        "                         [1,3,5,6,-7 + 4j,-8],\n",
        "                         [-0.3 + 2j,-0.5,-0.6,-0.9,-6 + 0.1j, 4]])\n",
        "tensor_2d_complex_abs = tf.math.abs(tensor_2d_complex)\n",
        "print(tensor_2d_complex_abs)\n",
        "\n",
        "## also takes the absolute of complex numbers using the sqrt(a.a + b.b) formula"
      ],
      "metadata": {
        "colab": {
          "base_uri": "https://localhost:8080/"
        },
        "id": "bO7X5ZP_O86q",
        "outputId": "2e975763-b36f-4912-973a-67f3bdfe7e23"
      },
      "execution_count": null,
      "outputs": [
        {
          "output_type": "stream",
          "name": "stdout",
          "text": [
            "tf.Tensor(\n",
            "[[3.60555128 8.54400375 4.         5.         6.00333241 0.6       ]\n",
            " [1.         3.         5.         6.         8.06225775 8.        ]\n",
            " [2.02237484 0.5        0.6        0.9        6.00083328 4.        ]], shape=(3, 6), dtype=float64)\n"
          ]
        }
      ]
    },
    {
      "cell_type": "code",
      "source": [
        "complex_number_1 = tensor_2d_complex[0,0]\n",
        "print(complex_number_1)\n",
        "\n",
        "\n",
        "\n"
      ],
      "metadata": {
        "colab": {
          "base_uri": "https://localhost:8080/"
        },
        "id": "CizC__6zQh65",
        "outputId": "a9216834-8861-4db1-eced-79f596a3d9b4"
      },
      "execution_count": 39,
      "outputs": [
        {
          "output_type": "stream",
          "name": "stdout",
          "text": [
            "tf.Tensor((2+3j), shape=(), dtype=complex128)\n"
          ]
        }
      ]
    },
    {
      "cell_type": "code",
      "source": [
        "abs_complex_number_1 = tf.sqrt((tf.constant(2, dtype = tf.float32))**2 + (tf.constant(3, dtype = tf.float32))**2)\n",
        "print(abs_complex_number_1)\n",
        "\n",
        "## as you can see that the value printed is the same as the value printed in the absolute matrix. Simple numbers inmput wont work\n",
        "## int he case of the sqrt inmput as they are not tensorflow dtypes so every number given as input to the tf fucntions should be a\n",
        "## a tf datatype\n"
      ],
      "metadata": {
        "colab": {
          "base_uri": "https://localhost:8080/"
        },
        "id": "3KtEj2XiRF-B",
        "outputId": "9b0312d4-fc89-4482-ef98-06b268ee61c7"
      },
      "execution_count": 37,
      "outputs": [
        {
          "output_type": "stream",
          "name": "stdout",
          "text": [
            "tf.Tensor(3.6055512, shape=(), dtype=float32)\n"
          ]
        }
      ]
    },
    {
      "cell_type": "code",
      "source": [
        "x1 = tf.constant([1,2,3,4,5,6], dtype = tf.int32)\n",
        "x2 = tf.constant([6,5,4,3,2,1], dtype = tf.int32)\n",
        "print(tf.math.divide(x1,x2))\n",
        "\n",
        "\n",
        "## both numebr should have the same datatype. or else it would not work. Also now lets try now to actually do some thing different.\n",
        "\n",
        "x3 = tf.constant([1,2,3,0,5,0], dtype = tf.int32)\n",
        "print(tf.math.divide(x1,x3))\n",
        "print(tf.math.divide_no_nan(x1,x3))\n",
        "\n",
        "\n",
        "## If i use the funciton divide_no_nan then there would be no infinities shown and infinity would be mapped to a zero"
      ],
      "metadata": {
        "colab": {
          "base_uri": "https://localhost:8080/"
        },
        "id": "psq-ZaJTRlAL",
        "outputId": "5f086857-ec64-47ce-83e7-8241b31f1e24"
      },
      "execution_count": 38,
      "outputs": [
        {
          "output_type": "stream",
          "name": "stdout",
          "text": [
            "tf.Tensor([0.16666667 0.4        0.75       1.33333333 2.5        6.        ], shape=(6,), dtype=float64)\n",
            "tf.Tensor([ 1.  1.  1. inf  1. inf], shape=(6,), dtype=float64)\n",
            "tf.Tensor([1. 1. 1. 0. 1. 0.], shape=(6,), dtype=float64)\n"
          ]
        }
      ]
    },
    {
      "cell_type": "code",
      "source": [
        "x4 = tf.constant([\n",
        "                  [\n",
        "                      [[1,2,3,4,5],\n",
        "                      [2,3,4,5,6]],\n",
        "\n",
        "                      [[1,2,3,4,5],\n",
        "                      [2,3,4,5,6]]\n",
        "                  ],\n",
        "\n",
        "                  [\n",
        "                    [[1,2,3,4,5],\n",
        "                    [2,3,4,5,6]],\n",
        "\n",
        "                    [[1,2,3,4,5],\n",
        "                    [2,3,4,5,6]]\n",
        "                  ],\n",
        "\n",
        "                 [\n",
        "                    [[1,2,3,4,5],\n",
        "                    [2,3,4,5,6]],\n",
        "\n",
        "                    [[1,2,3,4,5],\n",
        "                    [2,3,4,5,6]]\n",
        "                  ],\n",
        "\n",
        "                 [\n",
        "                     [[1,2,3,4,5],\n",
        "                    [2,3,4,5,6]],\n",
        "\n",
        "                    [[1,2,3,4,5],\n",
        "                    [2,3,4,5,6]]]\n",
        "                ], dtype = tf.float32)\n",
        "\n",
        "## This is a 4d matrix. Lets do some add operations with it\n",
        "\n",
        "x5 = tf.constant([\n",
        "     [\n",
        "         [\n",
        "            [5,4,3,2,1],\n",
        "            [5,4,3,2,1]\n",
        "          ],\n",
        "                  [\n",
        "            [5,4,3,2,1],\n",
        "            [5,4,3,2,1]\n",
        "          ],\n",
        "      ],\n",
        "      [\n",
        "         [\n",
        "            [5,4,3,2,1],\n",
        "            [5,4,3,2,1]\n",
        "          ],\n",
        "                  [\n",
        "            [5,4,3,2,1],\n",
        "            [5,4,3,2,1]\n",
        "          ],\n",
        "      ],\n",
        "      [\n",
        "         [\n",
        "            [5,4,3,2,1],\n",
        "            [5,4,3,2,1]\n",
        "          ],\n",
        "                  [\n",
        "            [5,4,3,2,1],\n",
        "            [5,4,3,2,1]\n",
        "          ],\n",
        "      ],\n",
        "      [\n",
        "         [\n",
        "            [5,4,3,2,1],\n",
        "            [5,4,3,2,1]\n",
        "          ],\n",
        "                  [\n",
        "            [5,4,3,2,1],\n",
        "            [5,4,3,2,1]\n",
        "          ],\n",
        "      ],\n",
        "    ], dtype = tf.float32)\n",
        "\n",
        "print(tf.math.add(x4,x5))\n",
        "\n",
        "x6 = tf.constant(10, dtype = tf.float32)\n",
        "\n",
        "print(tf.math.add(x5,x6))"
      ],
      "metadata": {
        "id": "-ChjwHvJT1pW",
        "colab": {
          "base_uri": "https://localhost:8080/"
        },
        "outputId": "62e4efda-cb85-4588-9702-84cd80d533fe"
      },
      "execution_count": 51,
      "outputs": [
        {
          "output_type": "stream",
          "name": "stdout",
          "text": [
            "tf.Tensor(\n",
            "[[[[6. 6. 6. 6. 6.]\n",
            "   [7. 7. 7. 7. 7.]]\n",
            "\n",
            "  [[6. 6. 6. 6. 6.]\n",
            "   [7. 7. 7. 7. 7.]]]\n",
            "\n",
            "\n",
            " [[[6. 6. 6. 6. 6.]\n",
            "   [7. 7. 7. 7. 7.]]\n",
            "\n",
            "  [[6. 6. 6. 6. 6.]\n",
            "   [7. 7. 7. 7. 7.]]]\n",
            "\n",
            "\n",
            " [[[6. 6. 6. 6. 6.]\n",
            "   [7. 7. 7. 7. 7.]]\n",
            "\n",
            "  [[6. 6. 6. 6. 6.]\n",
            "   [7. 7. 7. 7. 7.]]]\n",
            "\n",
            "\n",
            " [[[6. 6. 6. 6. 6.]\n",
            "   [7. 7. 7. 7. 7.]]\n",
            "\n",
            "  [[6. 6. 6. 6. 6.]\n",
            "   [7. 7. 7. 7. 7.]]]], shape=(4, 2, 2, 5), dtype=float32)\n",
            "tf.Tensor(\n",
            "[[[[15. 14. 13. 12. 11.]\n",
            "   [15. 14. 13. 12. 11.]]\n",
            "\n",
            "  [[15. 14. 13. 12. 11.]\n",
            "   [15. 14. 13. 12. 11.]]]\n",
            "\n",
            "\n",
            " [[[15. 14. 13. 12. 11.]\n",
            "   [15. 14. 13. 12. 11.]]\n",
            "\n",
            "  [[15. 14. 13. 12. 11.]\n",
            "   [15. 14. 13. 12. 11.]]]\n",
            "\n",
            "\n",
            " [[[15. 14. 13. 12. 11.]\n",
            "   [15. 14. 13. 12. 11.]]\n",
            "\n",
            "  [[15. 14. 13. 12. 11.]\n",
            "   [15. 14. 13. 12. 11.]]]\n",
            "\n",
            "\n",
            " [[[15. 14. 13. 12. 11.]\n",
            "   [15. 14. 13. 12. 11.]]\n",
            "\n",
            "  [[15. 14. 13. 12. 11.]\n",
            "   [15. 14. 13. 12. 11.]]]], shape=(4, 2, 2, 5), dtype=float32)\n"
          ]
        }
      ]
    },
    {
      "cell_type": "code",
      "source": [
        "print(tf.math.multiply(x4,x5))\n",
        "print(tf.math.multiply(x5, x6))"
      ],
      "metadata": {
        "colab": {
          "base_uri": "https://localhost:8080/"
        },
        "id": "IgcJd_6uXERa",
        "outputId": "e2faeef5-2a7a-4fea-820c-a7ca0c4e2822"
      },
      "execution_count": 53,
      "outputs": [
        {
          "output_type": "stream",
          "name": "stdout",
          "text": [
            "tf.Tensor(\n",
            "[[[[ 5.  8.  9.  8.  5.]\n",
            "   [10. 12. 12. 10.  6.]]\n",
            "\n",
            "  [[ 5.  8.  9.  8.  5.]\n",
            "   [10. 12. 12. 10.  6.]]]\n",
            "\n",
            "\n",
            " [[[ 5.  8.  9.  8.  5.]\n",
            "   [10. 12. 12. 10.  6.]]\n",
            "\n",
            "  [[ 5.  8.  9.  8.  5.]\n",
            "   [10. 12. 12. 10.  6.]]]\n",
            "\n",
            "\n",
            " [[[ 5.  8.  9.  8.  5.]\n",
            "   [10. 12. 12. 10.  6.]]\n",
            "\n",
            "  [[ 5.  8.  9.  8.  5.]\n",
            "   [10. 12. 12. 10.  6.]]]\n",
            "\n",
            "\n",
            " [[[ 5.  8.  9.  8.  5.]\n",
            "   [10. 12. 12. 10.  6.]]\n",
            "\n",
            "  [[ 5.  8.  9.  8.  5.]\n",
            "   [10. 12. 12. 10.  6.]]]], shape=(4, 2, 2, 5), dtype=float32)\n",
            "tf.Tensor(\n",
            "[[[[50. 40. 30. 20. 10.]\n",
            "   [50. 40. 30. 20. 10.]]\n",
            "\n",
            "  [[50. 40. 30. 20. 10.]\n",
            "   [50. 40. 30. 20. 10.]]]\n",
            "\n",
            "\n",
            " [[[50. 40. 30. 20. 10.]\n",
            "   [50. 40. 30. 20. 10.]]\n",
            "\n",
            "  [[50. 40. 30. 20. 10.]\n",
            "   [50. 40. 30. 20. 10.]]]\n",
            "\n",
            "\n",
            " [[[50. 40. 30. 20. 10.]\n",
            "   [50. 40. 30. 20. 10.]]\n",
            "\n",
            "  [[50. 40. 30. 20. 10.]\n",
            "   [50. 40. 30. 20. 10.]]]\n",
            "\n",
            "\n",
            " [[[50. 40. 30. 20. 10.]\n",
            "   [50. 40. 30. 20. 10.]]\n",
            "\n",
            "  [[50. 40. 30. 20. 10.]\n",
            "   [50. 40. 30. 20. 10.]]]], shape=(4, 2, 2, 5), dtype=float32)\n"
          ]
        }
      ]
    },
    {
      "cell_type": "code",
      "source": [
        "x7 = tf.constant([5,2,6,6,4,6], dtype = tf.float32)\n",
        "x8 = tf.constant ([[7],[5], [3]], dtype= tf.float32)\n",
        "print(tf.shape(x7))\n",
        "print(tf.shape(x8))\n",
        "print(tf.math.multiply(x8,x7))\n",
        "\n",
        "\n",
        "x9 = tf.constant([5,2,6,6,4,6], dtype = tf.float32)\n",
        "x10 = tf.constant ([[7,2],[5,6], [3,2]], dtype= tf.float32)\n",
        "print(tf.shape(x9))\n",
        "print(tf.shape(x10))\n",
        "##print(tf.math.multiply(x9,x10))|"
      ],
      "metadata": {
        "colab": {
          "base_uri": "https://localhost:8080/"
        },
        "id": "BD3v2_8zjDqp",
        "outputId": "77e7c7cb-9c9d-432d-9c1f-f69fe1cbfd61"
      },
      "execution_count": 76,
      "outputs": [
        {
          "output_type": "stream",
          "name": "stdout",
          "text": [
            "tf.Tensor([6], shape=(1,), dtype=int32)\n",
            "tf.Tensor([3 1], shape=(2,), dtype=int32)\n",
            "tf.Tensor(\n",
            "[[35. 14. 42. 42. 28. 42.]\n",
            " [25. 10. 30. 30. 20. 30.]\n",
            " [15.  6. 18. 18. 12. 18.]], shape=(3, 6), dtype=float32)\n",
            "tf.Tensor([6], shape=(1,), dtype=int32)\n",
            "tf.Tensor([3 2], shape=(2,), dtype=int32)\n"
          ]
        }
      ]
    },
    {
      "cell_type": "markdown",
      "source": [
        "In TensorFlow, operations such as tf.math.multiply (which corresponds to element-wise multiplication) rely on specific rules regarding the shapes of the tensors involved. Understanding these rules can help explain why the multiplication of x7 and x8 works, but that of x9 and x10 does not.\n",
        "\n",
        "Case 1: Multiplying x7 and x8\n",
        "x7 has a shape of [6] (a 1D tensor with 6 elements).\n",
        "x8 has a shape of [3, 1] (a 2D tensor with 3 rows and 1 column).\n",
        "TensorFlow can broadcast these shapes against each other. The broadcasting rules allow these shapes to align by implicitly expanding the dimensions:\n",
        "\n",
        "x7 becomes [1, 6]\n",
        "x8 remains [3, 1]\n",
        "Through broadcasting:\n",
        "\n",
        "x8 will be expanded to [3, 6] (repeating its columns)\n",
        "x7 will be expanded to [3, 6] (repeating its rows)\n",
        "The result is a [3, 6] matrix where each row of x8 multiplies element-wise across each row of x7.\n",
        "\n",
        "Case 2: Multiplying x9 and x10\n",
        "x9 has a shape of [6] (the same 1D tensor as x7).\n",
        "x10 has a shape of [3, 2] (a 2D tensor with 3 rows and 2 columns).\n",
        "When TensorFlow attempts to broadcast these shapes:\n",
        "\n",
        "x9 can be treated as [1, 6] (adding a leading dimension).\n",
        "x10 is [3, 2].\n",
        "Here, the second dimension conflicts:\n",
        "\n",
        "The second dimension of x9 (treated as [1, 6]) is 6.\n",
        "The second dimension of x10 is 2.\n",
        "Since 6 does not match 2 and neither is 1, TensorFlow cannot broadcast these arrays in a way that aligns them for element-wise multiplication, resulting in an error.\n",
        "\n",
        "Broadcasting requires that the dimensions of both tensors either match or one of them is 1. In the case of x9 and x10, this rule is violated, so the operation fails. To successfully perform the operation, the dimensions must be compatible either through reshaping or by adjusting the sizes so that they align correctly.\n"
      ],
      "metadata": {
        "id": "nqcoodYnomMU"
      }
    },
    {
      "cell_type": "code",
      "source": [
        "# these functions will print the index of maximum number ina tensor\n",
        "print(tf.math.argmax(x9))\n",
        "print(tf.math.argmin(x9))\n",
        "\n",
        "print(tf.math.argmax(x5, axis = 3))\n",
        "\n",
        "\n",
        "\n"
      ],
      "metadata": {
        "colab": {
          "base_uri": "https://localhost:8080/"
        },
        "id": "3EBlVUKollRH",
        "outputId": "437fdd34-8187-4fc2-d3d3-3531dc6b08ad"
      },
      "execution_count": 83,
      "outputs": [
        {
          "output_type": "stream",
          "name": "stdout",
          "text": [
            "tf.Tensor(2, shape=(), dtype=int64)\n",
            "tf.Tensor(1, shape=(), dtype=int64)\n",
            "tf.Tensor(\n",
            "[[[0 0]\n",
            "  [0 0]]\n",
            "\n",
            " [[0 0]\n",
            "  [0 0]]\n",
            "\n",
            " [[0 0]\n",
            "  [0 0]]\n",
            "\n",
            " [[0 0]\n",
            "  [0 0]]], shape=(4, 2, 2), dtype=int64)\n"
          ]
        }
      ]
    },
    {
      "cell_type": "code",
      "source": [
        "print(tf.pow(x4, x5))\n",
        "\n",
        "##makes the elements of the second matrix power of the elements of the first matrix"
      ],
      "metadata": {
        "colab": {
          "base_uri": "https://localhost:8080/"
        },
        "id": "KqgoR0iTp_eV",
        "outputId": "01e62161-d128-4b45-8c67-94866efd8bc2"
      },
      "execution_count": 84,
      "outputs": [
        {
          "output_type": "stream",
          "name": "stdout",
          "text": [
            "tf.Tensor(\n",
            "[[[[ 1. 16. 27. 16.  5.]\n",
            "   [32. 81. 64. 25.  6.]]\n",
            "\n",
            "  [[ 1. 16. 27. 16.  5.]\n",
            "   [32. 81. 64. 25.  6.]]]\n",
            "\n",
            "\n",
            " [[[ 1. 16. 27. 16.  5.]\n",
            "   [32. 81. 64. 25.  6.]]\n",
            "\n",
            "  [[ 1. 16. 27. 16.  5.]\n",
            "   [32. 81. 64. 25.  6.]]]\n",
            "\n",
            "\n",
            " [[[ 1. 16. 27. 16.  5.]\n",
            "   [32. 81. 64. 25.  6.]]\n",
            "\n",
            "  [[ 1. 16. 27. 16.  5.]\n",
            "   [32. 81. 64. 25.  6.]]]\n",
            "\n",
            "\n",
            " [[[ 1. 16. 27. 16.  5.]\n",
            "   [32. 81. 64. 25.  6.]]\n",
            "\n",
            "  [[ 1. 16. 27. 16.  5.]\n",
            "   [32. 81. 64. 25.  6.]]]], shape=(4, 2, 2, 5), dtype=float32)\n"
          ]
        }
      ]
    },
    {
      "cell_type": "code",
      "source": [],
      "metadata": {
        "id": "98qw0PFlzrCI"
      },
      "execution_count": null,
      "outputs": []
    }
  ]
}