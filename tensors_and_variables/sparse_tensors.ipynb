{
  "nbformat": 4,
  "nbformat_minor": 0,
  "metadata": {
    "colab": {
      "provenance": [],
      "authorship_tag": "ABX9TyN1sNMrS9x2+nO3UqhX3/Na",
      "include_colab_link": true
    },
    "kernelspec": {
      "name": "python3",
      "display_name": "Python 3"
    },
    "language_info": {
      "name": "python"
    }
  },
  "cells": [
    {
      "cell_type": "markdown",
      "metadata": {
        "id": "view-in-github",
        "colab_type": "text"
      },
      "source": [
        "<a href=\"https://colab.research.google.com/github/talhabinazmat21/Deep_Learning/blob/main/tensors_and_variables/sparse_tensors.ipynb\" target=\"_parent\"><img src=\"https://colab.research.google.com/assets/colab-badge.svg\" alt=\"Open In Colab\"/></a>"
      ]
    },
    {
      "cell_type": "code",
      "execution_count": 6,
      "metadata": {
        "colab": {
          "base_uri": "https://localhost:8080/"
        },
        "id": "fCJgDpe5yYhR",
        "outputId": "27c088e9-aa79-44c4-cad4-e18e9da44fc5"
      },
      "outputs": [
        {
          "output_type": "stream",
          "name": "stdout",
          "text": [
            "SparseTensor(indices=tf.Tensor(\n",
            "[[1 2]\n",
            " [5 4]], shape=(2, 2), dtype=int64), values=tf.Tensor([12 45], shape=(2,), dtype=int32), dense_shape=tf.Tensor([8 8], shape=(2,), dtype=int64))\n",
            "tf.Tensor(\n",
            "[[ 0  0  0  0  0  0  0  0]\n",
            " [ 0  0 12  0  0  0  0  0]\n",
            " [ 0  0  0  0  0  0  0  0]\n",
            " [ 0  0  0  0  0  0  0  0]\n",
            " [ 0  0  0  0  0  0  0  0]\n",
            " [ 0  0  0  0 45  0  0  0]\n",
            " [ 0  0  0  0  0  0  0  0]\n",
            " [ 0  0  0  0  0  0  0  0]], shape=(8, 8), dtype=int32)\n"
          ]
        }
      ],
      "source": [
        "import tensorflow as tf\n",
        "sparse_tensor = tf.sparse.SparseTensor(\n",
        "    indices = [[1,2], [5,4]], values = [12, 45], dense_shape = [8,8]\n",
        ")\n",
        "\n",
        "print(sparse_tensor)\n",
        "\n",
        "\n",
        "print(tf.sparse.to_dense(sparse_tensor))"
      ]
    },
    {
      "cell_type": "code",
      "source": [],
      "metadata": {
        "id": "oJRjSGRDyzvT"
      },
      "execution_count": null,
      "outputs": []
    }
  ]
}