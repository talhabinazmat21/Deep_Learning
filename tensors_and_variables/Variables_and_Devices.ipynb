{
  "nbformat": 4,
  "nbformat_minor": 0,
  "metadata": {
    "colab": {
      "provenance": [],
      "gpuType": "T4",
      "authorship_tag": "ABX9TyPor/2ctJDnidlC6lZfMZ7k",
      "include_colab_link": true
    },
    "kernelspec": {
      "name": "python3",
      "display_name": "Python 3"
    },
    "language_info": {
      "name": "python"
    },
    "accelerator": "GPU"
  },
  "cells": [
    {
      "cell_type": "markdown",
      "metadata": {
        "id": "view-in-github",
        "colab_type": "text"
      },
      "source": [
        "<a href=\"https://colab.research.google.com/github/talhabinazmat21/Deep_Learning/blob/main/tensors_and_variables/Variables_and_Devices.ipynb\" target=\"_parent\"><img src=\"https://colab.research.google.com/assets/colab-badge.svg\" alt=\"Open In Colab\"/></a>"
      ]
    },
    {
      "cell_type": "code",
      "execution_count": 1,
      "metadata": {
        "colab": {
          "base_uri": "https://localhost:8080/"
        },
        "id": "T0RNbAwd2Nct",
        "outputId": "b7083189-41ef-42ef-d415-3e178961f794"
      },
      "outputs": [
        {
          "output_type": "execute_result",
          "data": {
            "text/plain": [
              "<tf.Variable 'UnreadVariable' shape=() dtype=int32, numpy=2>"
            ]
          },
          "metadata": {},
          "execution_count": 1
        }
      ],
      "source": [
        "import tensorflow as tf\n",
        "\n",
        "x1 = tf.Variable(1)\n",
        "x1.assign(2)"
      ]
    },
    {
      "cell_type": "code",
      "source": [
        "with tf.device('CPU:0'):\n",
        "  x1 = tf.constant([1,2,4])\n",
        "  x2 = tf.constant([1,5,3])\n",
        "\n",
        "with tf.device('GPU:0'):\n",
        "  x3 = x1 + x2\n",
        "\n",
        "\n",
        "print(x3, x3.device)"
      ],
      "metadata": {
        "colab": {
          "base_uri": "https://localhost:8080/"
        },
        "id": "vGz9ylQW2bfl",
        "outputId": "f1428b00-5977-40fe-806b-98b6452fdbff"
      },
      "execution_count": 4,
      "outputs": [
        {
          "output_type": "stream",
          "name": "stdout",
          "text": [
            "tf.Tensor([2 7 7], shape=(3,), dtype=int32) /job:localhost/replica:0/task:0/device:GPU:0\n"
          ]
        }
      ]
    },
    {
      "cell_type": "code",
      "source": [],
      "metadata": {
        "id": "97WXWYKs35R3"
      },
      "execution_count": null,
      "outputs": []
    }
  ]
}